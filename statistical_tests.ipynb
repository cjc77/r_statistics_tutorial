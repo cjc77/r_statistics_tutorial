{
 "cells": [
  {
   "cell_type": "markdown",
   "metadata": {},
   "source": [
    "# Statistical Tests"
   ]
  },
  {
   "cell_type": "code",
   "execution_count": 1,
   "metadata": {},
   "outputs": [
    {
     "name": "stderr",
     "output_type": "stream",
     "text": [
      "── \u001b[1mAttaching packages\u001b[22m ─────────────────────────────────────── tidyverse 1.3.0 ──\n",
      "\n",
      "\u001b[32m✔\u001b[39m \u001b[34mggplot2\u001b[39m 3.3.2     \u001b[32m✔\u001b[39m \u001b[34mpurrr  \u001b[39m 0.3.4\n",
      "\u001b[32m✔\u001b[39m \u001b[34mtibble \u001b[39m 3.0.3     \u001b[32m✔\u001b[39m \u001b[34mdplyr  \u001b[39m 1.0.0\n",
      "\u001b[32m✔\u001b[39m \u001b[34mtidyr  \u001b[39m 1.1.0     \u001b[32m✔\u001b[39m \u001b[34mstringr\u001b[39m 1.4.0\n",
      "\u001b[32m✔\u001b[39m \u001b[34mreadr  \u001b[39m 1.3.1     \u001b[32m✔\u001b[39m \u001b[34mforcats\u001b[39m 0.5.0\n",
      "\n",
      "── \u001b[1mConflicts\u001b[22m ────────────────────────────────────────── tidyverse_conflicts() ──\n",
      "\u001b[31m✖\u001b[39m \u001b[34mdplyr\u001b[39m::\u001b[32mfilter()\u001b[39m masks \u001b[34mstats\u001b[39m::filter()\n",
      "\u001b[31m✖\u001b[39m \u001b[34mdplyr\u001b[39m::\u001b[32mlag()\u001b[39m    masks \u001b[34mstats\u001b[39m::lag()\n",
      "\n"
     ]
    }
   ],
   "source": [
    "library(tidyverse)"
   ]
  },
  {
   "cell_type": "code",
   "execution_count": 2,
   "metadata": {},
   "outputs": [],
   "source": [
    "set.seed(100)"
   ]
  },
  {
   "cell_type": "markdown",
   "metadata": {},
   "source": [
    "# One Sample t-test\n",
    "\n",
    "Null Hypothesis: $\\mu - \\hat{\\mu} = 0$"
   ]
  },
  {
   "cell_type": "code",
   "execution_count": 3,
   "metadata": {},
   "outputs": [
    {
     "data": {
      "text/plain": [
       "\n",
       "\tOne Sample t-test\n",
       "\n",
       "data:  x1\n",
       "t = 0.70372, df = 49, p-value = 0.4849\n",
       "alternative hypothesis: true mean is not equal to 10\n",
       "95 percent confidence interval:\n",
       "  9.924374 10.157135\n",
       "sample estimates:\n",
       "mean of x \n",
       " 10.04075 \n"
      ]
     },
     "metadata": {},
     "output_type": "display_data"
    }
   ],
   "source": [
    "x1 <- rnorm(n = 50, mean = 10, sd = 0.5)\n",
    "t.test(x1, mu = 10)"
   ]
  },
  {
   "cell_type": "markdown",
   "metadata": {},
   "source": [
    "# Wilcoxon Signed Rank Test\n",
    "Null Hypothesis: $m - \\hat{m} = 0$"
   ]
  },
  {
   "cell_type": "code",
   "execution_count": 4,
   "metadata": {},
   "outputs": [
    {
     "name": "stderr",
     "output_type": "stream",
     "text": [
      "Warning message in wilcox.test.default(x2, mu = 20, conf.int = TRUE):\n",
      "“requested conf.level not achievable”\n",
      "Warning message in wilcox.test.default(x2, mu = 20, conf.int = TRUE):\n",
      "“cannot compute exact p-value with ties”\n",
      "Warning message in wilcox.test.default(x2, mu = 20, conf.int = TRUE):\n",
      "“cannot compute exact confidence interval with ties”\n",
      "Warning message in wilcox.test.default(x2, mu = 20, conf.int = TRUE):\n",
      "“cannot compute exact p-value with zeroes”\n",
      "Warning message in wilcox.test.default(x2, mu = 20, conf.int = TRUE):\n",
      "“cannot compute exact confidence interval with zeroes”\n"
     ]
    },
    {
     "data": {
      "text/plain": [
       "\n",
       "\tWilcoxon signed rank test with continuity correction\n",
       "\n",
       "data:  x2\n",
       "V = 30, p-value = 0.1056\n",
       "alternative hypothesis: true location is not equal to 20\n",
       "90 percent confidence interval:\n",
       " 19.00006 25.99999\n",
       "sample estimates:\n",
       "(pseudo)median \n",
       "      23.00002 \n"
      ]
     },
     "metadata": {},
     "output_type": "display_data"
    }
   ],
   "source": [
    "x2 <- c(20, 29, 24, 19, 20, 22, 28, 23, 19, 19)\n",
    "wilcox.test(x2, mu=20, conf.int = TRUE)"
   ]
  },
  {
   "cell_type": "markdown",
   "metadata": {},
   "source": [
    "# Two Sample Wilcoxon Test\n",
    "\n",
    "Null Hypothesis: $m_1 - m_2 = 0$"
   ]
  },
  {
   "cell_type": "code",
   "execution_count": 5,
   "metadata": {},
   "outputs": [
    {
     "data": {
      "text/plain": [
       "\n",
       "\tWilcoxon rank sum test\n",
       "\n",
       "data:  x3 and x4\n",
       "W = 35, p-value = 0.1272\n",
       "alternative hypothesis: true location shift is greater than 0\n"
      ]
     },
     "metadata": {},
     "output_type": "display_data"
    }
   ],
   "source": [
    "x3 <- c(0.80, 0.83, 1.89, 1.04, 1.45, 1.38, 1.91, 1.64, 0.73, 1.46)\n",
    "x4 <- c(1.15, 0.88, 0.90, 0.74, 1.21)\n",
    "wilcox.test(x3, x4, alternative = \"g\")"
   ]
  },
  {
   "cell_type": "markdown",
   "metadata": {},
   "source": [
    "# Two Sample t-Test\n",
    "\n",
    "Null Hypothesis: $\\mu_1 - \\mu_2 = 0$"
   ]
  },
  {
   "cell_type": "code",
   "execution_count": 7,
   "metadata": {},
   "outputs": [
    {
     "data": {
      "text/plain": [
       "\n",
       "\tWelch Two Sample t-test\n",
       "\n",
       "data:  x5 and x6\n",
       "t = 1.007, df = 62.527, p-value = 0.3178\n",
       "alternative hypothesis: true difference in means is not equal to 0\n",
       "95 percent confidence interval:\n",
       " -0.2055402  0.6229533\n",
       "sample estimates:\n",
       "mean of x mean of y \n",
       "10.165379  9.956673 \n"
      ]
     },
     "metadata": {},
     "output_type": "display_data"
    },
    {
     "data": {
      "text/plain": [
       "\n",
       "\tWelch Two Sample t-test\n",
       "\n",
       "data:  x7 and x8\n",
       "t = 30.959, df = 95.975, p-value < 2.2e-16\n",
       "alternative hypothesis: true difference in means is not equal to 0\n",
       "95 percent confidence interval:\n",
       "  9.261359 10.530342\n",
       "sample estimates:\n",
       "mean of x mean of y \n",
       "14.880246  4.984395 \n"
      ]
     },
     "metadata": {},
     "output_type": "display_data"
    }
   ],
   "source": [
    "x5 <- rnorm(50, mean = 10, sd = 1.5)\n",
    "x6 <- rnorm(50, mean = 10, sd = 0.5)\n",
    "\n",
    "x7 <- rnorm(50, mean = 15, sd = 1.5)\n",
    "x8 <- rnorm(50, mean = 5, sd = 1.5)\n",
    "\n",
    "t.test(x5, x6)\n",
    "t.test(x7, x8)"
   ]
  },
  {
   "cell_type": "markdown",
   "metadata": {},
   "source": [
    "# Shapiro Test\n",
    "\n",
    "Null Hypothesis: $X \\sim \\mathcal{N}$"
   ]
  },
  {
   "cell_type": "code",
   "execution_count": 12,
   "metadata": {},
   "outputs": [
    {
     "data": {
      "text/plain": [
       "\n",
       "\tShapiro-Wilk normality test\n",
       "\n",
       "data:  x2\n",
       "W = 0.84135, p-value = 0.04579\n"
      ]
     },
     "metadata": {},
     "output_type": "display_data"
    },
    {
     "data": {
      "text/plain": [
       "\n",
       "\tShapiro-Wilk normality test\n",
       "\n",
       "data:  x8\n",
       "W = 0.97276, p-value = 0.2986\n"
      ]
     },
     "metadata": {},
     "output_type": "display_data"
    },
    {
     "data": {
      "text/plain": [
       "\n",
       "\tShapiro-Wilk normality test\n",
       "\n",
       "data:  x9\n",
       "W = 0.94634, p-value = 0.02419\n"
      ]
     },
     "metadata": {},
     "output_type": "display_data"
    }
   ],
   "source": [
    "# Not generated from a normal dist.\n",
    "shapiro.test(x2)\n",
    "\n",
    "# Generated from a normal dist.\n",
    "shapiro.test(x8)\n",
    "\n",
    "# Definitely not generated from a normal dist.\n",
    "x9 <- runif(n = 50, min = 5, max = 7.5)\n",
    "shapiro.test(x9)"
   ]
  },
  {
   "cell_type": "markdown",
   "metadata": {},
   "source": [
    "# Kolmogorov and Smirnov Test\n",
    "\n",
    "Null Hypothesis: $X, Y \\sim \\Omega$ where $\\Omega$ is some probability distribution"
   ]
  },
  {
   "cell_type": "code",
   "execution_count": 37,
   "metadata": {},
   "outputs": [
    {
     "data": {
      "text/plain": [
       "\n",
       "\tTwo-sample Kolmogorov-Smirnov test\n",
       "\n",
       "data:  x10 and x11\n",
       "D = 0.28, p-value = 0.03919\n",
       "alternative hypothesis: two-sided\n"
      ]
     },
     "metadata": {},
     "output_type": "display_data"
    },
    {
     "data": {
      "text/plain": [
       "\n",
       "\tTwo-sample Kolmogorov-Smirnov test\n",
       "\n",
       "data:  x10 and x12\n",
       "D = 0.26, p-value = 0.06779\n",
       "alternative hypothesis: two-sided\n"
      ]
     },
     "metadata": {},
     "output_type": "display_data"
    },
    {
     "data": {
      "text/plain": [
       "\n",
       "\tTwo-sample Kolmogorov-Smirnov test\n",
       "\n",
       "data:  x10 and x13\n",
       "D = 1, p-value < 2.2e-16\n",
       "alternative hypothesis: two-sided\n"
      ]
     },
     "metadata": {},
     "output_type": "display_data"
    },
    {
     "name": "stderr",
     "output_type": "stream",
     "text": [
      "Warning message in ks.test(x10, x10):\n",
      "“cannot compute exact p-value with ties”\n"
     ]
    },
    {
     "data": {
      "text/plain": [
       "\n",
       "\tTwo-sample Kolmogorov-Smirnov test\n",
       "\n",
       "data:  x10 and x10\n",
       "D = 0, p-value = 1\n",
       "alternative hypothesis: two-sided\n"
      ]
     },
     "metadata": {},
     "output_type": "display_data"
    }
   ],
   "source": [
    "# Different types of distributions\n",
    "x10 <- rnorm(n = 50, mean = 0, sd = 1)\n",
    "x11 <- runif(n = 50, min = -1, max = 1)\n",
    "ks.test(x10, x11)\n",
    "\n",
    "# Same mean, different sd\n",
    "x12 <- rnorm(n = 50, mean = 0, sd = 2)\n",
    "ks.test(x10, x12)\n",
    "\n",
    "# Different mean, same sd\n",
    "x13 <- rnorm(n = 50, mean = 5, sd = 1)\n",
    "ks.test(x10, x13)\n",
    "\n",
    "# Same normal dist\n",
    "ks.test(x10, x10)"
   ]
  },
  {
   "cell_type": "markdown",
   "metadata": {},
   "source": [
    "# Fisher's F-Test\n",
    "\n",
    "Null Hypothesis: $var(\\vec{X}_1) = var(\\vec{X}_2)$"
   ]
  },
  {
   "cell_type": "code",
   "execution_count": 39,
   "metadata": {},
   "outputs": [
    {
     "data": {
      "text/plain": [
       "\n",
       "\tF test to compare two variances\n",
       "\n",
       "data:  x10 and x12\n",
       "F = 0.17943, num df = 49, denom df = 49, p-value = 1.454e-08\n",
       "alternative hypothesis: true ratio of variances is not equal to 1\n",
       "95 percent confidence interval:\n",
       " 0.1018250 0.3161979\n",
       "sample estimates:\n",
       "ratio of variances \n",
       "         0.1794348 \n"
      ]
     },
     "metadata": {},
     "output_type": "display_data"
    },
    {
     "data": {
      "text/plain": [
       "\n",
       "\tF test to compare two variances\n",
       "\n",
       "data:  x10 and x13\n",
       "F = 1.2045, num df = 49, denom df = 49, p-value = 0.5174\n",
       "alternative hypothesis: true ratio of variances is not equal to 1\n",
       "95 percent confidence interval:\n",
       " 0.6835053 2.1224947\n",
       "sample estimates:\n",
       "ratio of variances \n",
       "          1.204465 \n"
      ]
     },
     "metadata": {},
     "output_type": "display_data"
    }
   ],
   "source": [
    "var.test(x10, x12)\n",
    "var.test(x10, x13)"
   ]
  },
  {
   "cell_type": "code",
   "execution_count": null,
   "metadata": {},
   "outputs": [],
   "source": []
  }
 ],
 "metadata": {
  "kernelspec": {
   "display_name": "R",
   "language": "R",
   "name": "ir"
  },
  "language_info": {
   "codemirror_mode": "r",
   "file_extension": ".r",
   "mimetype": "text/x-r-source",
   "name": "R",
   "pygments_lexer": "r",
   "version": "3.6.3"
  }
 },
 "nbformat": 4,
 "nbformat_minor": 4
}
