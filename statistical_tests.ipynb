{
 "cells": [
  {
   "cell_type": "markdown",
   "metadata": {},
   "source": [
    "# Statistical Tests"
   ]
  },
  {
   "cell_type": "code",
   "execution_count": 1,
   "metadata": {},
   "outputs": [
    {
     "name": "stderr",
     "output_type": "stream",
     "text": [
      "── \u001b[1mAttaching packages\u001b[22m ─────────────────────────────────────── tidyverse 1.3.0 ──\n",
      "\n",
      "\u001b[32m✔\u001b[39m \u001b[34mggplot2\u001b[39m 3.3.2     \u001b[32m✔\u001b[39m \u001b[34mpurrr  \u001b[39m 0.3.4\n",
      "\u001b[32m✔\u001b[39m \u001b[34mtibble \u001b[39m 3.0.3     \u001b[32m✔\u001b[39m \u001b[34mdplyr  \u001b[39m 1.0.0\n",
      "\u001b[32m✔\u001b[39m \u001b[34mtidyr  \u001b[39m 1.1.0     \u001b[32m✔\u001b[39m \u001b[34mstringr\u001b[39m 1.4.0\n",
      "\u001b[32m✔\u001b[39m \u001b[34mreadr  \u001b[39m 1.3.1     \u001b[32m✔\u001b[39m \u001b[34mforcats\u001b[39m 0.5.0\n",
      "\n",
      "── \u001b[1mConflicts\u001b[22m ────────────────────────────────────────── tidyverse_conflicts() ──\n",
      "\u001b[31m✖\u001b[39m \u001b[34mdplyr\u001b[39m::\u001b[32mfilter()\u001b[39m masks \u001b[34mstats\u001b[39m::filter()\n",
      "\u001b[31m✖\u001b[39m \u001b[34mdplyr\u001b[39m::\u001b[32mlag()\u001b[39m    masks \u001b[34mstats\u001b[39m::lag()\n",
      "\n"
     ]
    }
   ],
   "source": [
    "library(tidyverse)"
   ]
  },
  {
   "cell_type": "code",
   "execution_count": 2,
   "metadata": {},
   "outputs": [],
   "source": [
    "set.seed(100)"
   ]
  },
  {
   "cell_type": "markdown",
   "metadata": {},
   "source": [
    "# One Sample t-test\n",
    "\n",
    "Null Hypothesis: $\\mu - \\hat{\\mu} = 0$"
   ]
  },
  {
   "cell_type": "code",
   "execution_count": 3,
   "metadata": {},
   "outputs": [
    {
     "data": {
      "text/plain": [
       "\n",
       "\tOne Sample t-test\n",
       "\n",
       "data:  x1\n",
       "t = 0.70372, df = 49, p-value = 0.4849\n",
       "alternative hypothesis: true mean is not equal to 10\n",
       "95 percent confidence interval:\n",
       "  9.924374 10.157135\n",
       "sample estimates:\n",
       "mean of x \n",
       " 10.04075 \n"
      ]
     },
     "metadata": {},
     "output_type": "display_data"
    }
   ],
   "source": [
    "x1 <- rnorm(n = 50, mean = 10, sd = 0.5)\n",
    "t.test(x1, mu = 10)"
   ]
  },
  {
   "cell_type": "markdown",
   "metadata": {},
   "source": [
    "# Wilcoxon Signed Rank Test\n",
    "Null Hypothesis: $m - \\hat{m} = 0$"
   ]
  },
  {
   "cell_type": "code",
   "execution_count": 4,
   "metadata": {},
   "outputs": [
    {
     "name": "stderr",
     "output_type": "stream",
     "text": [
      "Warning message in wilcox.test.default(x2, mu = 20, conf.int = TRUE):\n",
      "“requested conf.level not achievable”\n",
      "Warning message in wilcox.test.default(x2, mu = 20, conf.int = TRUE):\n",
      "“cannot compute exact p-value with ties”\n",
      "Warning message in wilcox.test.default(x2, mu = 20, conf.int = TRUE):\n",
      "“cannot compute exact confidence interval with ties”\n",
      "Warning message in wilcox.test.default(x2, mu = 20, conf.int = TRUE):\n",
      "“cannot compute exact p-value with zeroes”\n",
      "Warning message in wilcox.test.default(x2, mu = 20, conf.int = TRUE):\n",
      "“cannot compute exact confidence interval with zeroes”\n"
     ]
    },
    {
     "data": {
      "text/plain": [
       "\n",
       "\tWilcoxon signed rank test with continuity correction\n",
       "\n",
       "data:  x2\n",
       "V = 30, p-value = 0.1056\n",
       "alternative hypothesis: true location is not equal to 20\n",
       "90 percent confidence interval:\n",
       " 19.00006 25.99999\n",
       "sample estimates:\n",
       "(pseudo)median \n",
       "      23.00002 \n"
      ]
     },
     "metadata": {},
     "output_type": "display_data"
    }
   ],
   "source": [
    "x2 <- c(20, 29, 24, 19, 20, 22, 28, 23, 19, 19)\n",
    "wilcox.test(x2, mu=20, conf.int = TRUE)"
   ]
  },
  {
   "cell_type": "markdown",
   "metadata": {},
   "source": [
    "# Two Sample Wilcoxon Test\n",
    "\n",
    "Null Hypothesis: $m_1 - m_2 = 0$"
   ]
  },
  {
   "cell_type": "code",
   "execution_count": 5,
   "metadata": {},
   "outputs": [
    {
     "data": {
      "text/plain": [
       "\n",
       "\tWilcoxon rank sum test\n",
       "\n",
       "data:  x3 and x4\n",
       "W = 35, p-value = 0.1272\n",
       "alternative hypothesis: true location shift is greater than 0\n"
      ]
     },
     "metadata": {},
     "output_type": "display_data"
    }
   ],
   "source": [
    "x3 <- c(0.80, 0.83, 1.89, 1.04, 1.45, 1.38, 1.91, 1.64, 0.73, 1.46)\n",
    "x4 <- c(1.15, 0.88, 0.90, 0.74, 1.21)\n",
    "wilcox.test(x3, x4, alternative = \"g\")"
   ]
  },
  {
   "cell_type": "markdown",
   "metadata": {},
   "source": [
    "# Two Sample t-Test\n",
    "\n",
    "Null Hypothesis: $\\mu_1 - \\mu_2 = 0$"
   ]
  },
  {
   "cell_type": "code",
   "execution_count": 6,
   "metadata": {},
   "outputs": [
    {
     "data": {
      "text/plain": [
       "\n",
       "\tWelch Two Sample t-test\n",
       "\n",
       "data:  x5 and x6\n",
       "t = -0.24561, df = 53.812, p-value = 0.8069\n",
       "alternative hypothesis: true difference in means is not equal to 0\n",
       "95 percent confidence interval:\n",
       " -0.5830865  0.4558216\n",
       "sample estimates:\n",
       "mean of x mean of y \n",
       " 9.886474  9.950107 \n"
      ]
     },
     "metadata": {},
     "output_type": "display_data"
    },
    {
     "data": {
      "text/plain": [
       "\n",
       "\tWelch Two Sample t-test\n",
       "\n",
       "data:  x7 and x8\n",
       "t = 34.787, df = 86.831, p-value < 2.2e-16\n",
       "alternative hypothesis: true difference in means is not equal to 0\n",
       "95 percent confidence interval:\n",
       "  9.721004 10.899201\n",
       "sample estimates:\n",
       "mean of x mean of y \n",
       "  15.1831    4.8730 \n"
      ]
     },
     "metadata": {},
     "output_type": "display_data"
    }
   ],
   "source": [
    "x5 <- rnorm(50, mean = 10, sd = 1.5)\n",
    "x6 <- rnorm(50, mean = 10, sd = 0.5)\n",
    "\n",
    "x7 <- rnorm(50, mean = 15, sd = 1.5)\n",
    "x8 <- rnorm(50, mean = 5, sd = 1.5)\n",
    "\n",
    "t.test(x5, x6)\n",
    "t.test(x7, x8)"
   ]
  },
  {
   "cell_type": "markdown",
   "metadata": {},
   "source": [
    "# Shapiro Test\n",
    "\n",
    "Null Hypothesis: $X \\sim \\mathcal{N}$"
   ]
  },
  {
   "cell_type": "code",
   "execution_count": 7,
   "metadata": {},
   "outputs": [
    {
     "data": {
      "text/plain": [
       "\n",
       "\tShapiro-Wilk normality test\n",
       "\n",
       "data:  x2\n",
       "W = 0.84135, p-value = 0.04579\n"
      ]
     },
     "metadata": {},
     "output_type": "display_data"
    },
    {
     "data": {
      "text/plain": [
       "\n",
       "\tShapiro-Wilk normality test\n",
       "\n",
       "data:  x8\n",
       "W = 0.97511, p-value = 0.3684\n"
      ]
     },
     "metadata": {},
     "output_type": "display_data"
    },
    {
     "data": {
      "text/plain": [
       "\n",
       "\tShapiro-Wilk normality test\n",
       "\n",
       "data:  x9\n",
       "W = 0.93965, p-value = 0.01305\n"
      ]
     },
     "metadata": {},
     "output_type": "display_data"
    }
   ],
   "source": [
    "# Not generated from a normal dist.\n",
    "shapiro.test(x2)\n",
    "\n",
    "# Generated from a normal dist.\n",
    "shapiro.test(x8)\n",
    "\n",
    "# Definitely not generated from a normal dist.\n",
    "x9 <- runif(n = 50, min = 5, max = 7.5)\n",
    "shapiro.test(x9)"
   ]
  },
  {
   "cell_type": "markdown",
   "metadata": {},
   "source": [
    "# Kolmogorov and Smirnov Test\n",
    "\n",
    "Null Hypothesis: $X, Y \\sim \\Omega$ where $\\Omega$ is some probability distribution"
   ]
  },
  {
   "cell_type": "code",
   "execution_count": 8,
   "metadata": {},
   "outputs": [
    {
     "data": {
      "text/plain": [
       "\n",
       "\tTwo-sample Kolmogorov-Smirnov test\n",
       "\n",
       "data:  x10 and x11\n",
       "D = 0.16, p-value = 0.5487\n",
       "alternative hypothesis: two-sided\n"
      ]
     },
     "metadata": {},
     "output_type": "display_data"
    },
    {
     "data": {
      "text/plain": [
       "\n",
       "\tTwo-sample Kolmogorov-Smirnov test\n",
       "\n",
       "data:  x10 and x12\n",
       "D = 0.28, p-value = 0.03919\n",
       "alternative hypothesis: two-sided\n"
      ]
     },
     "metadata": {},
     "output_type": "display_data"
    },
    {
     "data": {
      "text/plain": [
       "\n",
       "\tTwo-sample Kolmogorov-Smirnov test\n",
       "\n",
       "data:  x10 and x13\n",
       "D = 1, p-value < 2.2e-16\n",
       "alternative hypothesis: two-sided\n"
      ]
     },
     "metadata": {},
     "output_type": "display_data"
    },
    {
     "name": "stderr",
     "output_type": "stream",
     "text": [
      "Warning message in ks.test(x10, x10):\n",
      "“cannot compute exact p-value with ties”\n"
     ]
    },
    {
     "data": {
      "text/plain": [
       "\n",
       "\tTwo-sample Kolmogorov-Smirnov test\n",
       "\n",
       "data:  x10 and x10\n",
       "D = 0, p-value = 1\n",
       "alternative hypothesis: two-sided\n"
      ]
     },
     "metadata": {},
     "output_type": "display_data"
    }
   ],
   "source": [
    "# Different types of distributions\n",
    "x10 <- rnorm(n = 50, mean = 0, sd = 1)\n",
    "x11 <- runif(n = 50, min = -1, max = 1)\n",
    "ks.test(x10, x11)\n",
    "\n",
    "# Same mean, different sd\n",
    "x12 <- rnorm(n = 50, mean = 0, sd = 2)\n",
    "ks.test(x10, x12)\n",
    "\n",
    "# Different mean, same sd\n",
    "x13 <- rnorm(n = 50, mean = 5, sd = 1)\n",
    "ks.test(x10, x13)\n",
    "\n",
    "# Same normal dist\n",
    "ks.test(x10, x10)"
   ]
  },
  {
   "cell_type": "markdown",
   "metadata": {},
   "source": [
    "# Fisher's F-Test\n",
    "\n",
    "Null Hypothesis: $var(\\vec{X}_1) = var(\\vec{X}_2)$"
   ]
  },
  {
   "cell_type": "code",
   "execution_count": 9,
   "metadata": {},
   "outputs": [
    {
     "data": {
      "text/plain": [
       "\n",
       "\tF test to compare two variances\n",
       "\n",
       "data:  x10 and x12\n",
       "F = 0.15636, num df = 49, denom df = 49, p-value = 1.257e-09\n",
       "alternative hypothesis: true ratio of variances is not equal to 1\n",
       "95 percent confidence interval:\n",
       " 0.0887287 0.2755300\n",
       "sample estimates:\n",
       "ratio of variances \n",
       "         0.1563567 \n"
      ]
     },
     "metadata": {},
     "output_type": "display_data"
    },
    {
     "data": {
      "text/plain": [
       "\n",
       "\tF test to compare two variances\n",
       "\n",
       "data:  x10 and x13\n",
       "F = 0.838, num df = 49, denom df = 49, p-value = 0.5385\n",
       "alternative hypothesis: true ratio of variances is not equal to 1\n",
       "95 percent confidence interval:\n",
       " 0.4755475 1.4767215\n",
       "sample estimates:\n",
       "ratio of variances \n",
       "         0.8380043 \n"
      ]
     },
     "metadata": {},
     "output_type": "display_data"
    }
   ],
   "source": [
    "var.test(x10, x12)\n",
    "var.test(x10, x13)"
   ]
  },
  {
   "cell_type": "markdown",
   "metadata": {},
   "source": [
    "# Chi Squared Test\n",
    "\n",
    "Null Hypothesis: categorical variables are independent"
   ]
  },
  {
   "cell_type": "code",
   "execution_count": 32,
   "metadata": {},
   "outputs": [
    {
     "data": {
      "text/html": [
       "<table>\n",
       "<caption>A tibble: 14 × 2</caption>\n",
       "<thead>\n",
       "\t<tr><th scope=col>gte_7_ft</th><th scope=col>pro_player</th></tr>\n",
       "\t<tr><th scope=col>&lt;lgl&gt;</th><th scope=col>&lt;lgl&gt;</th></tr>\n",
       "</thead>\n",
       "<tbody>\n",
       "\t<tr><td> TRUE</td><td> TRUE</td></tr>\n",
       "\t<tr><td>FALSE</td><td>FALSE</td></tr>\n",
       "\t<tr><td> TRUE</td><td> TRUE</td></tr>\n",
       "\t<tr><td>FALSE</td><td>FALSE</td></tr>\n",
       "\t<tr><td> TRUE</td><td>FALSE</td></tr>\n",
       "\t<tr><td>FALSE</td><td> TRUE</td></tr>\n",
       "\t<tr><td> TRUE</td><td> TRUE</td></tr>\n",
       "\t<tr><td> TRUE</td><td>FALSE</td></tr>\n",
       "\t<tr><td>FALSE</td><td>FALSE</td></tr>\n",
       "\t<tr><td>FALSE</td><td>FALSE</td></tr>\n",
       "\t<tr><td> TRUE</td><td>FALSE</td></tr>\n",
       "\t<tr><td>FALSE</td><td>FALSE</td></tr>\n",
       "\t<tr><td> TRUE</td><td> TRUE</td></tr>\n",
       "\t<tr><td> TRUE</td><td> TRUE</td></tr>\n",
       "</tbody>\n",
       "</table>\n"
      ],
      "text/latex": [
       "A tibble: 14 × 2\n",
       "\\begin{tabular}{ll}\n",
       " gte\\_7\\_ft & pro\\_player\\\\\n",
       " <lgl> & <lgl>\\\\\n",
       "\\hline\n",
       "\t  TRUE &  TRUE\\\\\n",
       "\t FALSE & FALSE\\\\\n",
       "\t  TRUE &  TRUE\\\\\n",
       "\t FALSE & FALSE\\\\\n",
       "\t  TRUE & FALSE\\\\\n",
       "\t FALSE &  TRUE\\\\\n",
       "\t  TRUE &  TRUE\\\\\n",
       "\t  TRUE & FALSE\\\\\n",
       "\t FALSE & FALSE\\\\\n",
       "\t FALSE & FALSE\\\\\n",
       "\t  TRUE & FALSE\\\\\n",
       "\t FALSE & FALSE\\\\\n",
       "\t  TRUE &  TRUE\\\\\n",
       "\t  TRUE &  TRUE\\\\\n",
       "\\end{tabular}\n"
      ],
      "text/markdown": [
       "\n",
       "A tibble: 14 × 2\n",
       "\n",
       "| gte_7_ft &lt;lgl&gt; | pro_player &lt;lgl&gt; |\n",
       "|---|---|\n",
       "|  TRUE |  TRUE |\n",
       "| FALSE | FALSE |\n",
       "|  TRUE |  TRUE |\n",
       "| FALSE | FALSE |\n",
       "|  TRUE | FALSE |\n",
       "| FALSE |  TRUE |\n",
       "|  TRUE |  TRUE |\n",
       "|  TRUE | FALSE |\n",
       "| FALSE | FALSE |\n",
       "| FALSE | FALSE |\n",
       "|  TRUE | FALSE |\n",
       "| FALSE | FALSE |\n",
       "|  TRUE |  TRUE |\n",
       "|  TRUE |  TRUE |\n",
       "\n"
      ],
      "text/plain": [
       "   gte_7_ft pro_player\n",
       "1   TRUE     TRUE     \n",
       "2  FALSE    FALSE     \n",
       "3   TRUE     TRUE     \n",
       "4  FALSE    FALSE     \n",
       "5   TRUE    FALSE     \n",
       "6  FALSE     TRUE     \n",
       "7   TRUE     TRUE     \n",
       "8   TRUE    FALSE     \n",
       "9  FALSE    FALSE     \n",
       "10 FALSE    FALSE     \n",
       "11  TRUE    FALSE     \n",
       "12 FALSE    FALSE     \n",
       "13  TRUE     TRUE     \n",
       "14  TRUE     TRUE     "
      ]
     },
     "metadata": {},
     "output_type": "display_data"
    }
   ],
   "source": [
    "bball_df <- tibble(\n",
    "    \"gte_7_ft\" = c(TRUE, FALSE, TRUE, FALSE, TRUE, FALSE, TRUE, TRUE, FALSE, FALSE, TRUE, FALSE, TRUE, TRUE),\n",
    "    \"pro_player\" = c(TRUE, FALSE, TRUE, FALSE, FALSE, TRUE, TRUE, FALSE, FALSE, FALSE, FALSE, FALSE, TRUE, TRUE)\n",
    ")\n",
    "bball_df"
   ]
  },
  {
   "cell_type": "code",
   "execution_count": 33,
   "metadata": {},
   "outputs": [
    {
     "name": "stderr",
     "output_type": "stream",
     "text": [
      "Warning message in chisq.test(table(bball_df)):\n",
      "“Chi-squared approximation may be incorrect”\n"
     ]
    },
    {
     "data": {
      "text/plain": [
       "\n",
       "\tPearson's Chi-squared test with Yates' continuity correction\n",
       "\n",
       "data:  table(bball_df)\n",
       "X-squared = 1.3672, df = 1, p-value = 0.2423\n"
      ]
     },
     "metadata": {},
     "output_type": "display_data"
    }
   ],
   "source": [
    "chisq.test(table(bball_df))"
   ]
  },
  {
   "cell_type": "code",
   "execution_count": 31,
   "metadata": {},
   "outputs": [
    {
     "data": {
      "text/plain": [
       "        pro_player\n",
       "gte_7_ft FALSE TRUE\n",
       "   FALSE     5    1\n",
       "   TRUE      3    4"
      ]
     },
     "metadata": {},
     "output_type": "display_data"
    }
   ],
   "source": [
    "table(bball_df)"
   ]
  },
  {
   "cell_type": "markdown",
   "metadata": {},
   "source": [
    "# Correlation Test\n",
    "\n",
    "Null Hypothesis: $cor(X_1, X_2) = 0$"
   ]
  },
  {
   "cell_type": "code",
   "execution_count": 36,
   "metadata": {},
   "outputs": [
    {
     "data": {
      "text/plain": [
       "\n",
       "\tPearson's product-moment correlation\n",
       "\n",
       "data:  cars$dist and cars$speed\n",
       "t = 9.464, df = 48, p-value = 1.49e-12\n",
       "alternative hypothesis: true correlation is not equal to 0\n",
       "95 percent confidence interval:\n",
       " 0.6816422 0.8862036\n",
       "sample estimates:\n",
       "      cor \n",
       "0.8068949 \n"
      ]
     },
     "metadata": {},
     "output_type": "display_data"
    }
   ],
   "source": [
    "cars_df <- as_tibble(cars)\n",
    "cor.test(cars$dist, cars$speed)"
   ]
  },
  {
   "cell_type": "markdown",
   "metadata": {},
   "source": [
    "# Fisher's Exact Test\n",
    "\n",
    "Null Hypothesis: rows and columns are independent"
   ]
  },
  {
   "cell_type": "code",
   "execution_count": 39,
   "metadata": {},
   "outputs": [
    {
     "data": {
      "text/html": [
       "<table>\n",
       "<caption>A tibble: 9 × 2</caption>\n",
       "<thead>\n",
       "\t<tr><th scope=col>smoker</th><th scope=col>athlete</th></tr>\n",
       "\t<tr><th scope=col>&lt;lgl&gt;</th><th scope=col>&lt;lgl&gt;</th></tr>\n",
       "</thead>\n",
       "<tbody>\n",
       "\t<tr><td> TRUE</td><td>FALSE</td></tr>\n",
       "\t<tr><td> TRUE</td><td> TRUE</td></tr>\n",
       "\t<tr><td>FALSE</td><td> TRUE</td></tr>\n",
       "\t<tr><td>FALSE</td><td> TRUE</td></tr>\n",
       "\t<tr><td> TRUE</td><td>FALSE</td></tr>\n",
       "\t<tr><td>FALSE</td><td>FALSE</td></tr>\n",
       "\t<tr><td> TRUE</td><td>FALSE</td></tr>\n",
       "\t<tr><td>FALSE</td><td> TRUE</td></tr>\n",
       "\t<tr><td> TRUE</td><td>FALSE</td></tr>\n",
       "</tbody>\n",
       "</table>\n"
      ],
      "text/latex": [
       "A tibble: 9 × 2\n",
       "\\begin{tabular}{ll}\n",
       " smoker & athlete\\\\\n",
       " <lgl> & <lgl>\\\\\n",
       "\\hline\n",
       "\t  TRUE & FALSE\\\\\n",
       "\t  TRUE &  TRUE\\\\\n",
       "\t FALSE &  TRUE\\\\\n",
       "\t FALSE &  TRUE\\\\\n",
       "\t  TRUE & FALSE\\\\\n",
       "\t FALSE & FALSE\\\\\n",
       "\t  TRUE & FALSE\\\\\n",
       "\t FALSE &  TRUE\\\\\n",
       "\t  TRUE & FALSE\\\\\n",
       "\\end{tabular}\n"
      ],
      "text/markdown": [
       "\n",
       "A tibble: 9 × 2\n",
       "\n",
       "| smoker &lt;lgl&gt; | athlete &lt;lgl&gt; |\n",
       "|---|---|\n",
       "|  TRUE | FALSE |\n",
       "|  TRUE |  TRUE |\n",
       "| FALSE |  TRUE |\n",
       "| FALSE |  TRUE |\n",
       "|  TRUE | FALSE |\n",
       "| FALSE | FALSE |\n",
       "|  TRUE | FALSE |\n",
       "| FALSE |  TRUE |\n",
       "|  TRUE | FALSE |\n",
       "\n"
      ],
      "text/plain": [
       "  smoker athlete\n",
       "1  TRUE  FALSE  \n",
       "2  TRUE   TRUE  \n",
       "3 FALSE   TRUE  \n",
       "4 FALSE   TRUE  \n",
       "5  TRUE  FALSE  \n",
       "6 FALSE  FALSE  \n",
       "7  TRUE  FALSE  \n",
       "8 FALSE   TRUE  \n",
       "9  TRUE  FALSE  "
      ]
     },
     "metadata": {},
     "output_type": "display_data"
    }
   ],
   "source": [
    "athlete_df <- tibble(\n",
    "    \"smoker\" = c(TRUE, TRUE, FALSE, FALSE, TRUE, FALSE, TRUE, FALSE, TRUE),\n",
    "    \"athlete\" = c(FALSE, TRUE, TRUE, TRUE, FALSE, FALSE, FALSE, TRUE, FALSE)\n",
    ")\n",
    "athlete_df"
   ]
  },
  {
   "cell_type": "code",
   "execution_count": 42,
   "metadata": {},
   "outputs": [
    {
     "data": {
      "text/plain": [
       "\n",
       "\tFisher's Exact Test for Count Data\n",
       "\n",
       "data:  table(athlete_df)\n",
       "p-value = 0.2063\n",
       "alternative hypothesis: true odds ratio is not equal to 1\n",
       "95 percent confidence interval:\n",
       " 0.001288082 3.255946155\n",
       "sample estimates:\n",
       "odds ratio \n",
       " 0.1196876 \n"
      ]
     },
     "metadata": {},
     "output_type": "display_data"
    },
    {
     "data": {
      "text/plain": [
       "\n",
       "\tFisher's Exact Test for Count Data\n",
       "\n",
       "data:  table(bball_df)\n",
       "p-value = 0.1375\n",
       "alternative hypothesis: true odds ratio is not equal to 1\n",
       "95 percent confidence interval:\n",
       "   0.4514166 469.3251580\n",
       "sample estimates:\n",
       "odds ratio \n",
       "  7.054394 \n"
      ]
     },
     "metadata": {},
     "output_type": "display_data"
    }
   ],
   "source": [
    "fisher.test(table(athlete_df))\n",
    "fisher.test(table(bball_df))"
   ]
  }
 ],
 "metadata": {
  "kernelspec": {
   "display_name": "R",
   "language": "R",
   "name": "ir"
  },
  "language_info": {
   "codemirror_mode": "r",
   "file_extension": ".r",
   "mimetype": "text/x-r-source",
   "name": "R",
   "pygments_lexer": "r",
   "version": "3.6.3"
  }
 },
 "nbformat": 4,
 "nbformat_minor": 4
}
